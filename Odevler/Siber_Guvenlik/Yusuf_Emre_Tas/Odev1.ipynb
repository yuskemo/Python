{
  "nbformat": 4,
  "nbformat_minor": 0,
  "metadata": {
    "colab": {
      "provenance": []
    },
    "kernelspec": {
      "name": "python3",
      "display_name": "Python 3"
    },
    "language_info": {
      "name": "python"
    }
  },
  "cells": [
    {
      "cell_type": "code",
      "execution_count": 1,
      "metadata": {
        "colab": {
          "base_uri": "https://localhost:8080/"
        },
        "id": "y2Ga_DEV0mm2",
        "outputId": "a8e94b3f-3b49-4b79-a19c-7eb51a123870"
      },
      "outputs": [
        {
          "output_type": "stream",
          "name": "stdout",
          "text": [
            "400 derece kelvin, 127 derece celciusa eşittir\n"
          ]
        }
      ],
      "source": [
        "kelvin = 400\n",
        "celcius = kelvin - 273\n",
        "print (f\"{kelvin} derece kelvin, {celcius} derece celciusa eşittir\")"
      ]
    },
    {
      "cell_type": "code",
      "source": [
        "r = 1.5\n",
        "pi = 3.14\n",
        "alan = pi * (r * r)\n",
        "cevre = 2 * pi * r\n",
        "print (f\"Yarıçapı {r}cm olan bir dairenin; \\nAlanı = {alan:.2f}cm^2\\nÇevresi = {cevre:.2f}cm\")"
      ],
      "metadata": {
        "colab": {
          "base_uri": "https://localhost:8080/"
        },
        "id": "8o_Ju-Wo0o6C",
        "outputId": "bda7c007-29f6-4428-c026-c023bf59b944"
      },
      "execution_count": 2,
      "outputs": [
        {
          "output_type": "stream",
          "name": "stdout",
          "text": [
            "Yarıçapı 1.5cm olan bir dairenin; \n",
            "Alanı = 7.07cm^2\n",
            "Çevresi = 9.42cm\n"
          ]
        }
      ]
    },
    {
      "cell_type": "code",
      "source": [
        "sayi = 1234\n",
        "ilk_basamak = sayi // 1000\n",
        "son_basamak = sayi % 10\n",
        "toplam = ilk_basamak + son_basamak\n",
        "print (f\"Dört basamaklı {sayi} sayisinin ilk ve son basamağının toplamı = {toplam}\")"
      ],
      "metadata": {
        "colab": {
          "base_uri": "https://localhost:8080/"
        },
        "id": "kVfEefpt0qtj",
        "outputId": "34973ca2-8380-4ef6-b5d6-7f143e120de0"
      },
      "execution_count": 3,
      "outputs": [
        {
          "output_type": "stream",
          "name": "stdout",
          "text": [
            "Dört basamaklı 1234 sayisinin ilk ve son basamağının toplamı = 5\n"
          ]
        }
      ]
    },
    {
      "cell_type": "code",
      "source": [
        "hiz = 110\n",
        "mesafe = 500\n",
        "sure = mesafe / hiz\n",
        "saat = int(sure)\n",
        "dakika = int((sure - saat) * 60)\n",
        "print (f\"{saat} saat {dakika} dakika\")"
      ],
      "metadata": {
        "colab": {
          "base_uri": "https://localhost:8080/"
        },
        "id": "BtF55nGI0zwK",
        "outputId": "88ea55e2-1086-46d3-c364-1fe7efc642a6"
      },
      "execution_count": 4,
      "outputs": [
        {
          "output_type": "stream",
          "name": "stdout",
          "text": [
            "4 saat 32 dakika\n"
          ]
        }
      ]
    }
  ]
}
