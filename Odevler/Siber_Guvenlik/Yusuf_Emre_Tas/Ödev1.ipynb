{
  "nbformat": 4,
  "nbformat_minor": 0,
  "metadata": {
    "colab": {
      "provenance": []
    },
    "kernelspec": {
      "name": "python3",
      "display_name": "Python 3"
    },
    "language_info": {
      "name": "python"
    }
  },
  "cells": [
    {
      "cell_type": "code",
      "execution_count": null,
      "metadata": {
        "colab": {
          "base_uri": "https://localhost:8080/"
        },
        "id": "FbI-gINq5Fgv",
        "outputId": "aa36f184-acee-41b9-f9a2-eb2f083eee07"
      },
      "outputs": [
        {
          "output_type": "stream",
          "name": "stdout",
          "text": [
            "400 Kelvin, 126.85 Celsius derecesine eşittir.\n"
          ]
        }
      ],
      "source": [
        "kelvin_sicaklik = 400\n",
        "\n",
        "# Kelvin'i Celsius'a çevirmek için dönüşüm formülü\n",
        "# 0°C = 273.15K\n",
        "donusum = 273.15\n",
        "\n",
        "# Kelvin'i Celsius'a dönüştürme\n",
        "celsius_sicaklik = kelvin_sicaklik - donusum\n",
        "\n",
        "# Sonucu ekrana yazdırma\n",
        "print(f\"{kelvin_sicaklik} Kelvin, {celsius_sicaklik:.2f} Celsius derecesine eşittir.\")\n"
      ]
    },
    {
      "cell_type": "code",
      "source": [
        "yaricap = 1.5\n",
        "pi = 3.14\n",
        "\n",
        "# Dairenin alanını hesaplama (pi*r^2)\n",
        "alan = pi * (yaricap ** 2)\n",
        "\n",
        "# Dairenin çevresini hesaplama (2pi*r)\n",
        "cevre = 2 * pi * yaricap\n",
        "\n",
        "# Sonuçları ekrana yazdırma\n",
        "print(f\"Dairenin Alanı: {alan:.2f} cm^2\")\n",
        "print(f\"Dairenin Çevresi: {cevre:.2f} cm\")\n"
      ],
      "metadata": {
        "colab": {
          "base_uri": "https://localhost:8080/"
        },
        "id": "_YjaDuqS5ZOq",
        "outputId": "3cf1c478-cc7d-4899-d632-85f157bd1885"
      },
      "execution_count": null,
      "outputs": [
        {
          "output_type": "stream",
          "name": "stdout",
          "text": [
            "Dairenin Alanı: 7.07 cm^2\n",
            "Dairenin Çevresi: 9.42 cm\n"
          ]
        }
      ]
    },
    {
      "cell_type": "code",
      "source": [
        "sayi = 6161\n",
        "\n",
        "# Sayının ilk basamağı\n",
        "ilk_basamak = sayi // 1000\n",
        "\n",
        "# Sayının son basamağı\n",
        "son_basamak = sayi % 10\n",
        "\n",
        "# İlk ve son basamakları toplama\n",
        "toplam = ilk_basamak + son_basamak\n",
        "\n",
        "# Sonucu ekrana yazdırma\n",
        "print(f\"Dört basamaklı sayının ilk ve son basamaklarının toplamı: {toplam}\")\n"
      ],
      "metadata": {
        "colab": {
          "base_uri": "https://localhost:8080/"
        },
        "id": "YXgCBf736LuQ",
        "outputId": "bdd2d87b-f2e3-4b0c-c963-f55871d3632c"
      },
      "execution_count": null,
      "outputs": [
        {
          "output_type": "stream",
          "name": "stdout",
          "text": [
            "Dört basamaklı sayının ilk ve son basamaklarının toplamı: 7\n"
          ]
        }
      ]
    },
    {
      "cell_type": "code",
      "source": [
        "hiz = 110\n",
        "yol = 500\n",
        "\n",
        "# Yolu kaç saatte gideceğimizi hesaplama (Zaman = Mesafe / Hız)\n",
        "saat = yol / hiz\n",
        "\n",
        "# Saati tam sayı olarak elde etmek için yuvarlama\n",
        "saat_tam = int(saat)\n",
        "\n",
        "# Saati ve dakikayı hesaplama\n",
        "dakika = (saat - saat_tam) * 60\n",
        "\n",
        "# Sonucu ekrana yazdırma\n",
        "print(f\"Araba, {hiz} km/saat hızla {yol} km yol kat ederse:\")\n",
        "print(f\"{saat_tam} saat {int(dakika)} dakika sürer.\")\n"
      ],
      "metadata": {
        "colab": {
          "base_uri": "https://localhost:8080/"
        },
        "id": "Ajeb1Ebv634C",
        "outputId": "ee22278b-f343-4c28-ca27-67a49031c2dd"
      },
      "execution_count": null,
      "outputs": [
        {
          "output_type": "stream",
          "name": "stdout",
          "text": [
            "Araba, 110 km/saat hızla 500 km yol kat ederse:\n",
            "4 saat 32 dakika sürer.\n"
          ]
        }
      ]
    }
  ]
}